{
 "cells": [
  {
   "cell_type": "markdown",
   "id": "cf5430b8",
   "metadata": {},
   "source": [
    "##### explicit indexes"
   ]
  },
  {
   "cell_type": "markdown",
   "id": "c9a49494",
   "metadata": {},
   "source": [
    "- indexes makes the subsetting cleaner in some cases\n",
    "- the values in the index do not have to be unique"
   ]
  },
  {
   "cell_type": "code",
   "execution_count": null,
   "id": "ceff26b5",
   "metadata": {},
   "outputs": [],
   "source": [
    "#dropping an index\n",
    "df.reset_index(drop=True)"
   ]
  },
  {
   "cell_type": "code",
   "execution_count": null,
   "id": "85966bcb",
   "metadata": {},
   "outputs": [],
   "source": [
    "df[df[\"column_name\"].isin([\"value1\", \"value2\"])]"
   ]
  },
  {
   "cell_type": "code",
   "execution_count": null,
   "id": "11a43c13",
   "metadata": {},
   "outputs": [],
   "source": [
    "#when the values are indexed, loc can be used in a straight forward way\n",
    "#to filter rows exactly where the index is equal to these values\n",
    "df.loc[[\"value1\",\"value2\"]]"
   ]
  },
  {
   "cell_type": "markdown",
   "id": "dc2718cd",
   "metadata": {},
   "source": [
    "##### Creating multiple-level indexes"
   ]
  },
  {
   "cell_type": "markdown",
   "id": "220f31ff",
   "metadata": {},
   "source": [
    "- by passing multiple columns to the index"
   ]
  },
  {
   "cell_type": "code",
   "execution_count": null,
   "id": "9f4b3b03",
   "metadata": {},
   "outputs": [],
   "source": [
    "df_new = df.set_index([\"column1\", \"column2\"])"
   ]
  },
  {
   "cell_type": "code",
   "execution_count": null,
   "id": "9d79515b",
   "metadata": {},
   "outputs": [],
   "source": [
    "#you can filter by \"sets\" of values in two columns\n",
    "df.loc[\n",
    "    [\n",
    "        (\"Column1_Set1Value\", \"Column2_Set1Value\"),\n",
    "        (\"Column1_Set2Value\", \"Column2_Set2Value\")\n",
    "    ]\n",
    "]"
   ]
  },
  {
   "cell_type": "markdown",
   "id": "3d115aa7",
   "metadata": {},
   "source": [
    "##### sorting by index"
   ]
  },
  {
   "cell_type": "code",
   "execution_count": null,
   "id": "54568964",
   "metadata": {},
   "outputs": [],
   "source": [
    "df.sort_index(level=[\"column1\", \"column2\"],   #columns by which to sort\n",
    "              ascending=[True, False])        #in which direction for each"
   ]
  },
  {
   "cell_type": "markdown",
   "id": "72a15db8",
   "metadata": {},
   "source": [
    "##### using the index with .loc for subsetting"
   ]
  },
  {
   "cell_type": "code",
   "execution_count": null,
   "id": "8995ad3f",
   "metadata": {},
   "outputs": [],
   "source": [
    "#without an index, subsetting takes this form:\n",
    "df[df[\"column\"].isin(values)]\n",
    "\n",
    "#with an index, subsetting takes this form:\n",
    "df.loc[values]"
   ]
  }
 ],
 "metadata": {
  "kernelspec": {
   "display_name": "Python 3 (ipykernel)",
   "language": "python",
   "name": "python3"
  },
  "language_info": {
   "codemirror_mode": {
    "name": "ipython",
    "version": 3
   },
   "file_extension": ".py",
   "mimetype": "text/x-python",
   "name": "python",
   "nbconvert_exporter": "python",
   "pygments_lexer": "ipython3",
   "version": "3.9.7"
  }
 },
 "nbformat": 4,
 "nbformat_minor": 5
}
