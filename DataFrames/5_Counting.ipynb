{
 "cells": [
  {
   "cell_type": "markdown",
   "id": "1f28e282",
   "metadata": {},
   "source": [
    "##### Dropping Duplicates"
   ]
  },
  {
   "cell_type": "code",
   "execution_count": null,
   "id": "bf2cd20a",
   "metadata": {},
   "outputs": [],
   "source": [
    "#dropping duplicates in a dataframe by a value in a column\n",
    "df.drop_duplicates(subset=\"column_name\")"
   ]
  },
  {
   "cell_type": "code",
   "execution_count": null,
   "id": "b8eeb9ef",
   "metadata": {},
   "outputs": [],
   "source": [
    "#dropping rows based on multiple pairs\n",
    "df.drop_duplicates(subset=[\"column1\", \"column2\"])"
   ]
  },
  {
   "cell_type": "markdown",
   "id": "d030b0ca",
   "metadata": {},
   "source": [
    "#### Counting"
   ]
  },
  {
   "cell_type": "code",
   "execution_count": null,
   "id": "1cf69b76",
   "metadata": {},
   "outputs": [],
   "source": [
    "df[\"column_name\"].value_counts()\n",
    "#counts the number of unique values in a column\n",
    "\n",
    "#sorting the value counds in descending order from highest count to lowest count\n",
    "df[\"column_name\"].value_counts(sort=True)\n",
    "\n",
    "#turning the counts into proportions\n",
    "df[\"column_name\"].value_counts(normalize=True)"
   ]
  }
 ],
 "metadata": {
  "kernelspec": {
   "display_name": "Python 3 (ipykernel)",
   "language": "python",
   "name": "python3"
  },
  "language_info": {
   "codemirror_mode": {
    "name": "ipython",
    "version": 3
   },
   "file_extension": ".py",
   "mimetype": "text/x-python",
   "name": "python",
   "nbconvert_exporter": "python",
   "pygments_lexer": "ipython3",
   "version": "3.9.7"
  }
 },
 "nbformat": 4,
 "nbformat_minor": 5
}
