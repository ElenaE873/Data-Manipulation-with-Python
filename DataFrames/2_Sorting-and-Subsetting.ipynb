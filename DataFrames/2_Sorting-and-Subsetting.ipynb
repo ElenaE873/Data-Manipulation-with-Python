{
 "cells": [
  {
   "cell_type": "markdown",
   "id": "ac4e4e3f",
   "metadata": {},
   "source": [
    "##### Sorting"
   ]
  },
  {
   "cell_type": "code",
   "execution_count": null,
   "id": "125beaec",
   "metadata": {},
   "outputs": [],
   "source": [
    "#changing the order of the rows by sorting\n",
    "df.sort_values(\"column_to_sort_by\")\n",
    "\n",
    "#seeting the ascending parameter to False, will sort the other way around\n",
    "df.sort_values(\"column_to_sort_by\", ascending=False)"
   ]
  },
  {
   "cell_type": "code",
   "execution_count": null,
   "id": "af6a077e",
   "metadata": {},
   "outputs": [],
   "source": [
    "#sorting by multiple variables by passing a list of column names\n",
    "df.sort_values([\"variable1\", \"variable2\"])\n",
    "\n",
    "#direction of sorting for each variable\n",
    "df.sort_values([\"variable1\", \"variable2\"], ascending=[True,False])"
   ]
  },
  {
   "cell_type": "markdown",
   "id": "647921cf",
   "metadata": {},
   "source": [
    "##### Subsetting"
   ]
  },
  {
   "cell_type": "code",
   "execution_count": null,
   "id": "865bb259",
   "metadata": {},
   "outputs": [],
   "source": [
    "df[\"column_name\"]"
   ]
  },
  {
   "cell_type": "code",
   "execution_count": null,
   "id": "d0f8e502",
   "metadata": {},
   "outputs": [],
   "source": [
    "#to select more than one column, use of square brackets\n",
    "df[[\"column1\", \"column2\"]]\n",
    "\n",
    "#outer brackets - subsetting the dataframe\n",
    "#inner brackets - creating a list of column names to subset\n",
    "#this means that for the inner brackets, you can also use a variable\n",
    "cols_to_subset = [\"column1\", \"column2\"]\n",
    "df[cols_to_subset]"
   ]
  },
  {
   "cell_type": "markdown",
   "id": "b1ee7b8b",
   "metadata": {},
   "source": [
    "##### Logical Conditions to Filter & Subset"
   ]
  },
  {
   "cell_type": "code",
   "execution_count": null,
   "id": "f79d6848",
   "metadata": {},
   "outputs": [],
   "source": [
    "df[\"column_name\"] > value  \n",
    "#value here can also be a date, and dates must be in quotes\n",
    "\n",
    "#and can be used inside square brackets to subset\n",
    "df[df[\"column_name\"] > value]"
   ]
  },
  {
   "cell_type": "code",
   "execution_count": null,
   "id": "4377fd26",
   "metadata": {},
   "outputs": [],
   "source": [
    "#subsetting based on text data\n",
    "df[\"column_name\"] == \"Text\"\n",
    "\n",
    "df[df[\"column_name\"] == \"Text\"]"
   ]
  },
  {
   "cell_type": "code",
   "execution_count": null,
   "id": "67ec9f3d",
   "metadata": {},
   "outputs": [],
   "source": [
    "#multiple conditions\n",
    "condition1 = df[\"column1\"] == \"Text1\"\n",
    "condition2 = df[\"column2\"] == \"Text2\"\n",
    "\n",
    "df[condition1 & condition2]\n",
    "#this is a subset that meets both conditions\n",
    "\n",
    "#doing this in one line of code requires parantheses\n",
    "df[(df[\"column1\"] == \"Text1\") & (df[\"column2\"] == \"Text2\")]"
   ]
  },
  {
   "cell_type": "code",
   "execution_count": null,
   "id": "937d0ae5",
   "metadata": {},
   "outputs": [],
   "source": [
    "#using the \".isin()\" method\n",
    "\n",
    "condition = df[\"column\"].isin([\"Text1\", \"Text2\"])\n",
    "df[condition]"
   ]
  }
 ],
 "metadata": {
  "kernelspec": {
   "display_name": "Python 3 (ipykernel)",
   "language": "python",
   "name": "python3"
  },
  "language_info": {
   "codemirror_mode": {
    "name": "ipython",
    "version": 3
   },
   "file_extension": ".py",
   "mimetype": "text/x-python",
   "name": "python",
   "nbconvert_exporter": "python",
   "pygments_lexer": "ipython3",
   "version": "3.9.7"
  }
 },
 "nbformat": 4,
 "nbformat_minor": 5
}
