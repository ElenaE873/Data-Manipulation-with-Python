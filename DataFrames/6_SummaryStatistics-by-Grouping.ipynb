{
 "cells": [
  {
   "cell_type": "markdown",
   "id": "880ac493",
   "metadata": {},
   "source": [
    "##### .groupby()"
   ]
  },
  {
   "cell_type": "code",
   "execution_count": null,
   "id": "f51988ce",
   "metadata": {},
   "outputs": [],
   "source": [
    "df.groupby(\"column1\")[\"column2\"].mean()\n",
    "\n",
    "#group by column1\n",
    "#select the second column2 and \n",
    "#take the mean based on this grouping"
   ]
  },
  {
   "cell_type": "code",
   "execution_count": null,
   "id": "74d82847",
   "metadata": {},
   "outputs": [],
   "source": [
    "df.groupby(\"column1\")[\"column2\"].agg([min,max,sum])\n",
    "\n",
    "#group by at the level of column1\n",
    "#then take the min, max, sum of column 2 "
   ]
  },
  {
   "cell_type": "code",
   "execution_count": null,
   "id": "029eb2c3",
   "metadata": {},
   "outputs": [],
   "source": [
    "#group and aggregate by multiple columns\n",
    "df.groupby([\"column1\", \"column2\"])[[\"column3\", \"column\"]].mean()"
   ]
  },
  {
   "cell_type": "code",
   "execution_count": null,
   "id": "68e70c1e",
   "metadata": {},
   "outputs": [],
   "source": [
    "#example\n",
    "# Calc total weekly sales\n",
    "sales_all = sales[\"weekly_sales\"].sum()\n",
    "\n",
    "# Subset for type A stores, calc total weekly sales\n",
    "sales_A = sales[sales[\"type\"] == \"A\"][\"weekly_sales\"].sum()\n",
    "\n",
    "# Subset for type B stores, calc total weekly sales\n",
    "sales_B = sales[sales[\"type\"] == \"B\"][\"weekly_sales\"].sum()\n",
    "\n",
    "# Subset for type C stores, calc total weekly sales\n",
    "sales_C = sales[sales[\"type\"] == \"C\"][\"weekly_sales\"].sum()\n",
    "\n",
    "# Get proportion for each type\n",
    "sales_propn_by_type = [sales_A, sales_B, sales_C] / sales_all\n",
    "print(sales_propn_by_type)"
   ]
  },
  {
   "cell_type": "markdown",
   "id": "f58f43b8",
   "metadata": {},
   "source": [
    "##### using numpy functions"
   ]
  },
  {
   "cell_type": "code",
   "execution_count": null,
   "id": "3439e36e",
   "metadata": {},
   "outputs": [],
   "source": [
    "# Import numpy with the alias np\n",
    "import numpy as np\n",
    "\n",
    "# For each store type, aggregate weekly_sales: get min, max, mean, and median\n",
    "sales_stats = sales.groupby(\"type\")[\"weekly_sales\"].agg([np.min, np.max, np.mean, np.median])\n",
    "\n",
    "# Print sales_stats\n",
    "print(sales_stats)\n",
    "\n",
    "# For each store type, aggregate unemployment and fuel_price_usd_per_l: get min, max, mean, and median\n",
    "unemp_fuel_stats = sales.groupby(\"type\")[[\"unemployment\", \"fuel_price_usd_per_l\"]].agg([np.min, np.max, np.mean, np.median])\n",
    "\n",
    "# Print unemp_fuel_stats\n",
    "print(unemp_fuel_stats)"
   ]
  }
 ],
 "metadata": {
  "kernelspec": {
   "display_name": "Python 3 (ipykernel)",
   "language": "python",
   "name": "python3"
  },
  "language_info": {
   "codemirror_mode": {
    "name": "ipython",
    "version": 3
   },
   "file_extension": ".py",
   "mimetype": "text/x-python",
   "name": "python",
   "nbconvert_exporter": "python",
   "pygments_lexer": "ipython3",
   "version": "3.9.7"
  }
 },
 "nbformat": 4,
 "nbformat_minor": 5
}
