{
 "cells": [
  {
   "cell_type": "code",
   "execution_count": null,
   "id": "0aee5a71",
   "metadata": {},
   "outputs": [],
   "source": [
    "#determining where the center of the data\n",
    "df[\"column\"].mean()\n",
    "\n",
    "#other things that can be calculated per column\n",
    ".median()\n",
    ".mode()\n",
    ".min()  #can also be used for dates\n",
    ".max()\n",
    ".var()\n",
    ".std()\n",
    ".quantile()"
   ]
  },
  {
   "cell_type": "markdown",
   "id": "f1aa7a32",
   "metadata": {},
   "source": [
    "#### .agg() method"
   ]
  },
  {
   "cell_type": "markdown",
   "id": "56a3bbf4",
   "metadata": {},
   "source": [
    "- aggregate method allows to compute custom summary statistic by passing a designed function through it"
   ]
  },
  {
   "cell_type": "code",
   "execution_count": null,
   "id": "ccfc7713",
   "metadata": {},
   "outputs": [],
   "source": [
    "#calculating the 30th percentile of a column\n",
    "\n",
    "#defining the function which takes in the column \n",
    "def pct30(column):\n",
    "    #and processes the following expression to create the function\n",
    "    #to return the result of the column\n",
    "    return column.quantile(0.30)\n",
    "\n",
    "\n",
    "#subsetting the data\n",
    "df[\"column\"].agg(pct30)  #30th percentile of the column"
   ]
  },
  {
   "cell_type": "code",
   "execution_count": null,
   "id": "4c2a5174",
   "metadata": {},
   "outputs": [],
   "source": [
    "#multiple summaries\n",
    "def pct40(column):\n",
    "    return column.quantile(0.4)\n",
    "\n",
    "df[\"column\"].agg([pct30, pct40])  #30th and 40th percentile of the column"
   ]
  },
  {
   "cell_type": "markdown",
   "id": "9047f80b",
   "metadata": {},
   "source": [
    "#### cummulative statistics"
   ]
  },
  {
   "cell_type": "code",
   "execution_count": null,
   "id": "d9a84767",
   "metadata": {},
   "outputs": [],
   "source": [
    "#.cumsum()\n",
    "#-add all the values at the cummuluation occurs row by row\n",
    "\n",
    "df[\"column\"].cumsum()\n",
    "\n",
    "\n",
    "#others that can be used\n",
    ".cummax()\n",
    ".cummin()\n",
    ".cumprod()"
   ]
  }
 ],
 "metadata": {
  "kernelspec": {
   "display_name": "Python 3 (ipykernel)",
   "language": "python",
   "name": "python3"
  },
  "language_info": {
   "codemirror_mode": {
    "name": "ipython",
    "version": 3
   },
   "file_extension": ".py",
   "mimetype": "text/x-python",
   "name": "python",
   "nbconvert_exporter": "python",
   "pygments_lexer": "ipython3",
   "version": "3.9.7"
  }
 },
 "nbformat": 4,
 "nbformat_minor": 5
}
