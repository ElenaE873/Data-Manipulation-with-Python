{
 "cells": [
  {
   "cell_type": "markdown",
   "id": "6fbce5e0",
   "metadata": {},
   "source": [
    "##### Brief exploration of data"
   ]
  },
  {
   "cell_type": "code",
   "execution_count": null,
   "id": "18b16b69",
   "metadata": {},
   "outputs": [],
   "source": [
    "#brief look at the first few rows of a dataset\n",
    "df.head()"
   ]
  },
  {
   "cell_type": "code",
   "execution_count": null,
   "id": "5c829987",
   "metadata": {},
   "outputs": [],
   "source": [
    "#name of columns, data types they contain, and whether they have any missing values\n",
    "df.info()"
   ]
  },
  {
   "cell_type": "code",
   "execution_count": null,
   "id": "64350dbb",
   "metadata": {},
   "outputs": [],
   "source": [
    "#number of rows and columns\n",
    "df.shape"
   ]
  },
  {
   "cell_type": "code",
   "execution_count": null,
   "id": "66ec05e2",
   "metadata": {},
   "outputs": [],
   "source": [
    "#summary statistics for numerical columns\n",
    "df.describe()"
   ]
  },
  {
   "cell_type": "code",
   "execution_count": null,
   "id": "cc2c9214",
   "metadata": {},
   "outputs": [],
   "source": [
    "df.values"
   ]
  },
  {
   "cell_type": "code",
   "execution_count": null,
   "id": "188bfea1",
   "metadata": {},
   "outputs": [],
   "source": [
    "#columns names\n",
    "df.columns"
   ]
  },
  {
   "cell_type": "code",
   "execution_count": null,
   "id": "4b73c5ba",
   "metadata": {},
   "outputs": [],
   "source": [
    "#row numbers or rwo names\n",
    "df.index"
   ]
  }
 ],
 "metadata": {
  "kernelspec": {
   "display_name": "Python 3 (ipykernel)",
   "language": "python",
   "name": "python3"
  },
  "language_info": {
   "codemirror_mode": {
    "name": "ipython",
    "version": 3
   },
   "file_extension": ".py",
   "mimetype": "text/x-python",
   "name": "python",
   "nbconvert_exporter": "python",
   "pygments_lexer": "ipython3",
   "version": "3.9.7"
  }
 },
 "nbformat": 4,
 "nbformat_minor": 5
}
