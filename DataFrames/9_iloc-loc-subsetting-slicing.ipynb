{
 "cells": [
  {
   "cell_type": "markdown",
   "id": "dceaa640",
   "metadata": {},
   "source": [
    "##### slices"
   ]
  },
  {
   "cell_type": "code",
   "execution_count": null,
   "id": "d860e1d5",
   "metadata": {},
   "outputs": [],
   "source": [
    "list[2:5]\n",
    "\n",
    "#position 2 is really item 3 because it start at zero\n",
    "#also item at index 5 is not included\n",
    "#therefore this indicates, item 3 through 5 \n",
    "#(because index 5 is really item 6 which is not included)\n",
    "\n",
    "list[:3]   #items through the third item because index 3 is really item 4"
   ]
  },
  {
   "cell_type": "markdown",
   "id": "ab43a819",
   "metadata": {},
   "source": [
    "##### slicing dataframes by INDEX"
   ]
  },
  {
   "cell_type": "code",
   "execution_count": null,
   "id": "2f67dbe5",
   "metadata": {},
   "outputs": [],
   "source": [
    "# 1 - sorting the index\n",
    "\n",
    "df_new = df.set_index([\"column1\", \"column2\"]).sort_index()\n",
    "\n",
    "# 2 - Slicing the outer index\n",
    "\n",
    "df_new.loc[\"Column1_Value1\":\"Column1_ValueX\"]  \n",
    "#this is slicing on the first column index from value 1 to valueX\n",
    "\n",
    "# 3 - Slicing the inner index\n",
    "#inner index slicing does NOT work the same way as the outer index\n",
    "\n",
    "df_new.loc[\n",
    "    (\"Column1_Set1Value\", \"Column2_Set1Value\"):\n",
    "    (\"Column1_Set2Value\", \"Column2_Set2Value\")\n",
    "]\n",
    "#you have to slice by PAIRS of outer:inner values from and to"
   ]
  },
  {
   "cell_type": "markdown",
   "id": "e08dd873",
   "metadata": {},
   "source": [
    "##### slicing dataframes by COLUMNS"
   ]
  },
  {
   "cell_type": "code",
   "execution_count": null,
   "id": "6c8e4ac2",
   "metadata": {},
   "outputs": [],
   "source": [
    "df_new.loc[:,   #choosing all rows\n",
    "           \"Column1_from\":\"ColumnX_to\"]"
   ]
  },
  {
   "cell_type": "markdown",
   "id": "7a85bb19",
   "metadata": {},
   "source": [
    "##### slicing with DATES"
   ]
  },
  {
   "cell_type": "code",
   "execution_count": null,
   "id": "338602db",
   "metadata": {},
   "outputs": [],
   "source": [
    "# Use Boolean conditions to subset temperatures for rows in 2010 and 2011\n",
    "temperatures_bool = temperatures[(temperatures[\"date\"] >= \"2010-01-01\") & (temperatures[\"date\"] <= \"2011-12-31\")]\n",
    "print(temperatures_bool)\n",
    "\n",
    "# Set date as the index and sort the index\n",
    "temperatures_ind = temperatures.set_index(\"date\").sort_index()\n",
    "\n",
    "# Use .loc[] to subset temperatures_ind for rows in 2010 and 2011\n",
    "print(temperatures_ind.loc[\"2010\":\"2011\"])\n",
    "\n",
    "# Use .loc[] to subset temperatures_ind for rows from Aug 2010 to Feb 2011\n",
    "print(temperatures_ind.loc[\"2010-08\":\"2011-02\"])"
   ]
  }
 ],
 "metadata": {
  "kernelspec": {
   "display_name": "Python 3 (ipykernel)",
   "language": "python",
   "name": "python3"
  },
  "language_info": {
   "codemirror_mode": {
    "name": "ipython",
    "version": 3
   },
   "file_extension": ".py",
   "mimetype": "text/x-python",
   "name": "python",
   "nbconvert_exporter": "python",
   "pygments_lexer": "ipython3",
   "version": "3.9.7"
  }
 },
 "nbformat": 4,
 "nbformat_minor": 5
}
