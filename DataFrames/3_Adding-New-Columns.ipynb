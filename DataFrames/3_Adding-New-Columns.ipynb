{
 "cells": [
  {
   "cell_type": "markdown",
   "id": "707d9fe2",
   "metadata": {},
   "source": [
    "3 Different ways by which to add columns:\n",
    "- mutating a DF\n",
    "- tranforming a DF\n",
    "- feature engineering"
   ]
  },
  {
   "cell_type": "code",
   "execution_count": null,
   "id": "f3833ff9",
   "metadata": {},
   "outputs": [],
   "source": [
    "#creating a new column by the calculation of an previous column\n",
    "df[\"new_column_name\"] = df[\"prev_column_name\"] / 100"
   ]
  },
  {
   "cell_type": "code",
   "execution_count": null,
   "id": "5cf3b029",
   "metadata": {},
   "outputs": [],
   "source": [
    "#example of bmi calculation\n",
    "df[\"bmi\"] = df[\"weight_kg\"] / df[\"height_m\"] ** 2"
   ]
  }
 ],
 "metadata": {
  "kernelspec": {
   "display_name": "Python 3 (ipykernel)",
   "language": "python",
   "name": "python3"
  },
  "language_info": {
   "codemirror_mode": {
    "name": "ipython",
    "version": 3
   },
   "file_extension": ".py",
   "mimetype": "text/x-python",
   "name": "python",
   "nbconvert_exporter": "python",
   "pygments_lexer": "ipython3",
   "version": "3.9.7"
  }
 },
 "nbformat": 4,
 "nbformat_minor": 5
}
