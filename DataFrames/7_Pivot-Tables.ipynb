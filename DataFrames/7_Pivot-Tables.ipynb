{
 "cells": [
  {
   "cell_type": "code",
   "execution_count": null,
   "id": "6fb0adc3",
   "metadata": {},
   "outputs": [],
   "source": [
    "#using groupby\n",
    "df.groupby(\"column1\")[\"column2\"].mean()\n",
    "\n",
    "#versus the pivottable\n",
    "df.pivot_table(values=\"column2\",\n",
    "              index=\"column1\")\n",
    "\n",
    "#the index here takes the form of the groupby in the pivot table format"
   ]
  },
  {
   "cell_type": "code",
   "execution_count": null,
   "id": "19b732fe",
   "metadata": {},
   "outputs": [],
   "source": [
    "#different statistics function similarly in pivottable as with the .agg()\n",
    "\n",
    "import numpy as np\n",
    "df.pivot_table(values = \"column2\",\n",
    "              index = \"column1\",\n",
    "              aggfunc=np.median)   #if passing more than one use []"
   ]
  },
  {
   "cell_type": "code",
   "execution_count": null,
   "id": "434a618b",
   "metadata": {},
   "outputs": [],
   "source": [
    "#pivot tables (grouping) by two variables\n",
    "#again comparing to groupby\n",
    "df.groupby([\"column1\", \"column2\"])[\"column3\"].mean()\n",
    "\n",
    "#using the equivalent with the pivot_table method\n",
    "df.pivot_table(values=\"column3\",\n",
    "              index=\"column1\",\n",
    "              columns=\"column2\",\n",
    "              fill_value=0,       #filling the NaN's with zeros\n",
    "              margins=True        #last column contains mean of each row\n",
    "              )  #notice the mean function is not listed"
   ]
  },
  {
   "cell_type": "markdown",
   "id": "7e58ee24",
   "metadata": {},
   "source": [
    "\"Pivot tables are just DataFrames with sorted indexes.\""
   ]
  },
  {
   "cell_type": "markdown",
   "id": "f74a188d",
   "metadata": {},
   "source": [
    "##### the axis argument"
   ]
  },
  {
   "cell_type": "code",
   "execution_count": null,
   "id": "48f5aeb4",
   "metadata": {},
   "outputs": [],
   "source": [
    "df.mean(axis=\"index\")  #across the rows\n",
    "df.mean(axis=\"columns\") #across the columns"
   ]
  },
  {
   "cell_type": "code",
   "execution_count": null,
   "id": "2460dbe1",
   "metadata": {},
   "outputs": [],
   "source": [
    "#example:\n",
    "# Add a year column to temperatures\n",
    "temperatures[\"year\"] = temperatures[\"date\"].dt.year\n",
    "\n",
    "# Pivot avg_temp_c by country and city vs year\n",
    "temp_by_country_city_vs_year = temperatures.pivot_table(\"avg_temp_c\", index = [\"country\", \"city\"], columns = \"year\")\n",
    "\n",
    "# See the result\n",
    "print(temp_by_country_city_vs_year)"
   ]
  }
 ],
 "metadata": {
  "kernelspec": {
   "display_name": "Python 3 (ipykernel)",
   "language": "python",
   "name": "python3"
  },
  "language_info": {
   "codemirror_mode": {
    "name": "ipython",
    "version": 3
   },
   "file_extension": ".py",
   "mimetype": "text/x-python",
   "name": "python",
   "nbconvert_exporter": "python",
   "pygments_lexer": "ipython3",
   "version": "3.9.7"
  }
 },
 "nbformat": 4,
 "nbformat_minor": 5
}
