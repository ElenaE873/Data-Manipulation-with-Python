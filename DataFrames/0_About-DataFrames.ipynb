{
 "cells": [
  {
   "cell_type": "markdown",
   "id": "bb20fac3",
   "metadata": {},
   "source": [
    "A DataFrame\n",
    "- is in analogy similar to a Python dictionary; where;\n",
    "    - the variable names = keys\n",
    "    - and columns = valuesf\n",
    "- each column is a series"
   ]
  },
  {
   "cell_type": "code",
   "execution_count": null,
   "id": "ae2f64ef",
   "metadata": {},
   "outputs": [],
   "source": [
    "#selecting for a column and assigning it to a variable\n",
    "df_column = df['column_name']\n",
    "\n",
    "#the result is a series"
   ]
  }
 ],
 "metadata": {
  "kernelspec": {
   "display_name": "Python 3 (ipykernel)",
   "language": "python",
   "name": "python3"
  },
  "language_info": {
   "codemirror_mode": {
    "name": "ipython",
    "version": 3
   },
   "file_extension": ".py",
   "mimetype": "text/x-python",
   "name": "python",
   "nbconvert_exporter": "python",
   "pygments_lexer": "ipython3",
   "version": "3.9.7"
  }
 },
 "nbformat": 4,
 "nbformat_minor": 5
}
