{
 "cells": [
  {
   "cell_type": "markdown",
   "id": "8f1c28c9",
   "metadata": {},
   "source": [
    "Missing values in a DataFrame are indicated by NaN (Not a Number)"
   ]
  },
  {
   "cell_type": "code",
   "execution_count": null,
   "id": "d8f02d7c",
   "metadata": {},
   "outputs": [],
   "source": [
    "#sense of missing values\n",
    "df.isna().any() \n",
    "\n",
    "#tells us if there are any missing values in a column"
   ]
  },
  {
   "cell_type": "code",
   "execution_count": null,
   "id": "87cffd85",
   "metadata": {},
   "outputs": [],
   "source": [
    "import matplotlib.pyplot as plt\n",
    "\n",
    "#plotting the missinv values\n",
    "df.isna().sum().plot(kind=\"bar\")\n",
    "plt.show()"
   ]
  },
  {
   "cell_type": "markdown",
   "id": "07df1a9c",
   "metadata": {},
   "source": [
    "##### 1 - dropping the rows with NaN values"
   ]
  },
  {
   "cell_type": "code",
   "execution_count": null,
   "id": "4ddd8725",
   "metadata": {},
   "outputs": [],
   "source": [
    "df.dropna()"
   ]
  },
  {
   "cell_type": "markdown",
   "id": "15815b2f",
   "metadata": {},
   "source": [
    "##### 2 - replace with zeros"
   ]
  },
  {
   "cell_type": "code",
   "execution_count": null,
   "id": "6c36e5b7",
   "metadata": {},
   "outputs": [],
   "source": [
    "df.fillna(0)"
   ]
  },
  {
   "cell_type": "markdown",
   "id": "a3704c78",
   "metadata": {},
   "source": [
    "##### example"
   ]
  },
  {
   "cell_type": "code",
   "execution_count": null,
   "id": "9898ea6d",
   "metadata": {},
   "outputs": [],
   "source": [
    "cols_with_missing = [\"small_sold\", \"large_sold\", \"xl_sold\"]\n",
    "avocados_2016[cols_with_missing].hist()\n",
    "plt.show()\n",
    "\n",
    "# Fill in missing values with 0\n",
    "avocados_filled = avocados_2016.fillna(0)\n",
    "\n",
    "# Create histograms of the filled columns\n",
    "avocados_filled[cols_with_missing].hist()\n",
    "\n",
    "# Show the plot\n",
    "plt.show()"
   ]
  }
 ],
 "metadata": {
  "kernelspec": {
   "display_name": "Python 3 (ipykernel)",
   "language": "python",
   "name": "python3"
  },
  "language_info": {
   "codemirror_mode": {
    "name": "ipython",
    "version": 3
   },
   "file_extension": ".py",
   "mimetype": "text/x-python",
   "name": "python",
   "nbconvert_exporter": "python",
   "pygments_lexer": "ipython3",
   "version": "3.9.7"
  }
 },
 "nbformat": 4,
 "nbformat_minor": 5
}
