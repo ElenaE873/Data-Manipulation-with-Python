{
 "cells": [
  {
   "cell_type": "markdown",
   "id": "30730baf",
   "metadata": {},
   "source": [
    "### Missing Data"
   ]
  },
  {
   "cell_type": "markdown",
   "id": "c07b0734",
   "metadata": {},
   "source": [
    "In the real world can be found in a number of ways and for different reasons:\n",
    "- errors in data, or the data may be corrupted\n",
    "- it may be seen as zeros, question marks, negative values, maybe '99' values\n",
    "\n",
    "You need to understand the data in order to understand what a \"missing value\" may be.  It's not always a straight pathway to this"
   ]
  },
  {
   "cell_type": "markdown",
   "id": "8f1c28c9",
   "metadata": {},
   "source": [
    "Missing values in a DataFrame are indicated by NaN (Not a Number)"
   ]
  },
  {
   "cell_type": "code",
   "execution_count": null,
   "id": "d8f02d7c",
   "metadata": {},
   "outputs": [],
   "source": [
    "#sense of missing values\n",
    "df.isna().any() \n",
    "\n",
    "#tells us if there are any missing values in a column"
   ]
  },
  {
   "cell_type": "code",
   "execution_count": null,
   "id": "87cffd85",
   "metadata": {},
   "outputs": [],
   "source": [
    "import matplotlib.pyplot as plt\n",
    "\n",
    "#plotting the missinv values\n",
    "df.isna().sum().plot(kind=\"bar\")\n",
    "plt.show()"
   ]
  },
  {
   "cell_type": "markdown",
   "id": "07df1a9c",
   "metadata": {},
   "source": [
    "##### 1 - dropping the rows with NaN values"
   ]
  },
  {
   "cell_type": "code",
   "execution_count": null,
   "id": "4ddd8725",
   "metadata": {},
   "outputs": [],
   "source": [
    "#may want to replace zeros with nans \n",
    "df.column.replace(0, np.nan, inplace=True)\n",
    "\n",
    "df.dropna()"
   ]
  },
  {
   "cell_type": "markdown",
   "id": "15815b2f",
   "metadata": {},
   "source": [
    "##### 2 - replace with zeros"
   ]
  },
  {
   "cell_type": "code",
   "execution_count": null,
   "id": "6c36e5b7",
   "metadata": {},
   "outputs": [],
   "source": [
    "df.fillna(0)"
   ]
  },
  {
   "cell_type": "markdown",
   "id": "da82279f",
   "metadata": {},
   "source": [
    "##### 3 - imputation with Preprocessing Methods"
   ]
  },
  {
   "cell_type": "markdown",
   "id": "7ef4cf9d",
   "metadata": {},
   "source": [
    "- This is really making somewhat of an \"educated guess\" of what the missing data could be replaced with that is reasonable enough to be imputed in such manner."
   ]
  },
  {
   "cell_type": "code",
   "execution_count": null,
   "id": "b2e32b99",
   "metadata": {},
   "outputs": [],
   "source": [
    "#imputing the NaN with the mean across columns\n",
    "from sklearn.preprocessing import Imputer\n",
    "imp = Imputer(missing_values='NaN', strategy='mean', axis=0)\n",
    "\n",
    "imp.fit(X)\n",
    "X = imp.transform(X)\n",
    "#this is why the Imputers are known as Transformers"
   ]
  },
  {
   "cell_type": "code",
   "execution_count": null,
   "id": "5a4c316f",
   "metadata": {},
   "outputs": [],
   "source": [
    "#OR can use Imputing within a pipeline\n",
    "from sklearn.pipeline import Pipeline\n",
    "from sklearn.preprocessing import Imputer\n",
    "\n",
    "imp = Imputer(missing_values='NaN', strategy='mean', axis=0)\n",
    "logreg = LogisticRegression()\n",
    "\n",
    "steps = [('imputation', imp),\n",
    "        ('logistic_regression', logreg)]\n",
    "\n",
    "#pipeline constructor\n",
    "pipeline = Pipeline(steps)\n",
    "\n",
    "#train/test split performed now\n",
    "#fit the pipeline to the training set\n",
    "pipeline.fit(X_train, y_train)\n",
    "\n",
    "#predict on the test set\n",
    "y_pred = pipeline.predict(X_test)\n",
    "\n",
    "#compute accuracy\n",
    "pipeline.score(X_test, y_test)"
   ]
  },
  {
   "cell_type": "markdown",
   "id": "a3704c78",
   "metadata": {},
   "source": [
    "##### extra example"
   ]
  },
  {
   "cell_type": "code",
   "execution_count": null,
   "id": "9898ea6d",
   "metadata": {},
   "outputs": [],
   "source": [
    "cols_with_missing = [\"small_sold\", \"large_sold\", \"xl_sold\"]\n",
    "avocados_2016[cols_with_missing].hist()\n",
    "plt.show()\n",
    "\n",
    "# Fill in missing values with 0\n",
    "avocados_filled = avocados_2016.fillna(0)\n",
    "\n",
    "# Create histograms of the filled columns\n",
    "avocados_filled[cols_with_missing].hist()\n",
    "\n",
    "# Show the plot\n",
    "plt.show()"
   ]
  }
 ],
 "metadata": {
  "kernelspec": {
   "display_name": "Python 3 (ipykernel)",
   "language": "python",
   "name": "python3"
  },
  "language_info": {
   "codemirror_mode": {
    "name": "ipython",
    "version": 3
   },
   "file_extension": ".py",
   "mimetype": "text/x-python",
   "name": "python",
   "nbconvert_exporter": "python",
   "pygments_lexer": "ipython3",
   "version": "3.9.7"
  }
 },
 "nbformat": 4,
 "nbformat_minor": 5
}
