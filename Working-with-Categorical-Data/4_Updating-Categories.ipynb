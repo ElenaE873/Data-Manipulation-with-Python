{
 "cells": [
  {
   "cell_type": "code",
   "execution_count": null,
   "id": "7a9f6e2f",
   "metadata": {},
   "outputs": [],
   "source": [
    "#making a dictionary (although a dictionary is not always necessary for updating)\n",
    "dic = {\"old value\" : \"to new value\"}\n",
    "\n",
    "#renaming categories\n",
    "df[\"col\"] = df[\"col\"].cat.rename_categories(dic)\n",
    "\n",
    "#checking for changes\n",
    "df[\"col\"].value_counts()"
   ]
  },
  {
   "cell_type": "code",
   "execution_count": null,
   "id": "fa221da0",
   "metadata": {},
   "outputs": [],
   "source": [
    "#replacing values\n",
    "replace_map = {\"old value\" : \"to new value\"}\n",
    "\n",
    "#replacing categories\n",
    "df[\"col\"].replace(replace_map, inplace=True)\n",
    "\n",
    "#checking for changes\n",
    "df[\"col\"].value_counts()"
   ]
  }
 ],
 "metadata": {
  "kernelspec": {
   "display_name": "Python 3 (ipykernel)",
   "language": "python",
   "name": "python3"
  },
  "language_info": {
   "codemirror_mode": {
    "name": "ipython",
    "version": 3
   },
   "file_extension": ".py",
   "mimetype": "text/x-python",
   "name": "python",
   "nbconvert_exporter": "python",
   "pygments_lexer": "ipython3",
   "version": "3.9.7"
  }
 },
 "nbformat": 4,
 "nbformat_minor": 5
}
