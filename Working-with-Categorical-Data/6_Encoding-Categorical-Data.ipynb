{
 "cells": [
  {
   "cell_type": "markdown",
   "id": "684b8db5",
   "metadata": {},
   "source": [
    "##### Label Encoding"
   ]
  },
  {
   "cell_type": "markdown",
   "id": "3540608a",
   "metadata": {},
   "source": [
    "- codes categorical values as integers\n",
    "- can save memory\n",
    "- not the best method for machine learning"
   ]
  },
  {
   "cell_type": "code",
   "execution_count": null,
   "id": "6211fabe",
   "metadata": {},
   "outputs": [],
   "source": [
    "#if the data is not ordinal, it will assign the keys in alphabetical order\n",
    "#this very aspect is why it might not be great to use in machine learning\n",
    "#because it may create a \"false\" order not representative of the data\n",
    "#and the model may interpret the \"weight\" inappropriately from the keys assigned by alphatic.order\n",
    "\n",
    "df['column'] = df['column'].cat.codes"
   ]
  },
  {
   "cell_type": "markdown",
   "id": "7703ce22",
   "metadata": {},
   "source": [
    "##### One - Hot Encoding"
   ]
  },
  {
   "cell_type": "markdown",
   "id": "f9ca2e9a",
   "metadata": {},
   "source": [
    "- 0 / 1 value for a all values of a single column or any columns"
   ]
  },
  {
   "cell_type": "code",
   "execution_count": null,
   "id": "082d536a",
   "metadata": {},
   "outputs": [],
   "source": [
    "#process of creating \"dummy\" variables\n",
    "pd.get_dummies()"
   ]
  },
  {
   "cell_type": "markdown",
   "id": "424e8f87",
   "metadata": {},
   "source": [
    "Several Inputs:\n",
    "- data: pandas df\n",
    "- columns: list of column names\n",
    "- prefix: string to add at the beginning of each category"
   ]
  }
 ],
 "metadata": {
  "kernelspec": {
   "display_name": "Python 3 (ipykernel)",
   "language": "python",
   "name": "python3"
  },
  "language_info": {
   "codemirror_mode": {
    "name": "ipython",
    "version": 3
   },
   "file_extension": ".py",
   "mimetype": "text/x-python",
   "name": "python",
   "nbconvert_exporter": "python",
   "pygments_lexer": "ipython3",
   "version": "3.9.7"
  }
 },
 "nbformat": 4,
 "nbformat_minor": 5
}
