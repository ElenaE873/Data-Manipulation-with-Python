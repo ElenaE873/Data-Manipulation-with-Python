{
 "cells": [
  {
   "cell_type": "markdown",
   "id": "5449a8a6",
   "metadata": {},
   "source": [
    "2 Ways to identify issues with categorical data\n",
    "- 1 - Series.cat.categories\n",
    "- 2 - Series.value_counts()"
   ]
  },
  {
   "cell_type": "markdown",
   "id": "62d143aa",
   "metadata": {},
   "source": [
    "##### searching for string using str accessor object"
   ]
  },
  {
   "cell_type": "code",
   "execution_count": null,
   "id": "dde03698",
   "metadata": {},
   "outputs": [],
   "source": [
    "df[\"col\"].str.contains(\"stringofinterest\", regex=False)"
   ]
  }
 ],
 "metadata": {
  "kernelspec": {
   "display_name": "Python 3 (ipykernel)",
   "language": "python",
   "name": "python3"
  },
  "language_info": {
   "codemirror_mode": {
    "name": "ipython",
    "version": 3
   },
   "file_extension": ".py",
   "mimetype": "text/x-python",
   "name": "python",
   "nbconvert_exporter": "python",
   "pygments_lexer": "ipython3",
   "version": "3.9.7"
  }
 },
 "nbformat": 4,
 "nbformat_minor": 5
}
