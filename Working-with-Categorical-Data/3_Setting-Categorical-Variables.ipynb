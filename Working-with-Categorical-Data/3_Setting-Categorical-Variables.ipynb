{
 "cells": [
  {
   "cell_type": "code",
   "execution_count": null,
   "id": "be8652b7",
   "metadata": {},
   "outputs": [],
   "source": [
    "#setting a column to categorical type\n",
    "df[\"col\"] = df[\"col\"].astype(\"category\")\n",
    "\n",
    "#checking the total counts of the categories in the col, with dropna as false to check for any missing values\n",
    "df[\"col\"].value_counts(dropna=False`)"
   ]
  },
  {
   "cell_type": "code",
   "execution_count": null,
   "id": "d161d740",
   "metadata": {},
   "outputs": [],
   "source": [
    "#setting categories in a column\n",
    "df[\"col\"] = df[\"col\"].cat.set_catgories(\n",
    "    new_categories=[\"cat1\", \"cat2\", \"cat3\"],\n",
    "    ordered = True  #categories have a specific order\n",
    ")"
   ]
  },
  {
   "cell_type": "code",
   "execution_count": null,
   "id": "81990ead",
   "metadata": {},
   "outputs": [],
   "source": [
    "#adding new categories\n",
    "df[\"col\"] = df[\"col\"].cat.add_categories(\n",
    "    new_categories=[\"cat1\", \"cat2\", \"cat3\"])"
   ]
  },
  {
   "cell_type": "code",
   "execution_count": null,
   "id": "eea92774",
   "metadata": {},
   "outputs": [],
   "source": [
    "#checking for categories\n",
    "df['col'].cat.categories"
   ]
  },
  {
   "cell_type": "code",
   "execution_count": null,
   "id": "15d3ff2b",
   "metadata": {},
   "outputs": [],
   "source": [
    "#removing categories\n",
    "df[\"col\"] = df[\"col\"].cat.remove_categories(\n",
    "    removals=[\"cat\"])"
   ]
  }
 ],
 "metadata": {
  "kernelspec": {
   "display_name": "Python 3 (ipykernel)",
   "language": "python",
   "name": "python3"
  },
  "language_info": {
   "codemirror_mode": {
    "name": "ipython",
    "version": 3
   },
   "file_extension": ".py",
   "mimetype": "text/x-python",
   "name": "python",
   "nbconvert_exporter": "python",
   "pygments_lexer": "ipython3",
   "version": "3.9.7"
  }
 },
 "nbformat": 4,
 "nbformat_minor": 5
}
