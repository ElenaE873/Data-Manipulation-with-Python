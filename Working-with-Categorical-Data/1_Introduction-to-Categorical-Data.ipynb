{
 "cells": [
  {
   "cell_type": "markdown",
   "id": "597d4d28",
   "metadata": {},
   "source": [
    "#### Categorical vs. Numerical Data"
   ]
  },
  {
   "cell_type": "markdown",
   "id": "47456d84",
   "metadata": {},
   "source": [
    "Categorical Data\n",
    "- Known as \"Qualitative\" data / ie. descriptive\n",
    "- Finite number of groups\n",
    "- Fixed/Known categories\n",
    "\n",
    "Numerical Data\n",
    "- Know as \"Quantitative data / ie. measurement-like\n",
    "- Expressed as a numerical value"
   ]
  },
  {
   "cell_type": "markdown",
   "id": "0f768a29",
   "metadata": {},
   "source": [
    "#### 2 Types of Categorical Data"
   ]
  },
  {
   "cell_type": "markdown",
   "id": "72909da1",
   "metadata": {},
   "source": [
    "Ordinal variables\n",
    "- variables that have a natural order\n",
    "\n",
    "Nominal variables\n",
    "- cannot be placed in a natural order, but rather are more random"
   ]
  },
  {
   "cell_type": "code",
   "execution_count": null,
   "id": "a07c3435",
   "metadata": {},
   "outputs": [],
   "source": [
    "#turning an object variable into a category variable\n",
    "\n",
    "#first checking datatype of column\n",
    "df['col'].dtype  #resulting is \"dtype('O')\"\n",
    "\n",
    "#setting as categorical\n",
    "df['col'] = df['col'].astype(\"categorical\")\n",
    "\n",
    "#result is 'CategoricalDtype' with the respective values in the category column"
   ]
  },
  {
   "cell_type": "code",
   "execution_count": null,
   "id": "d4b2b126",
   "metadata": {},
   "outputs": [],
   "source": [
    "#checking the details of a categorical column\n",
    "df['cat_col'].describe()"
   ]
  },
  {
   "cell_type": "code",
   "execution_count": null,
   "id": "f5e4ef06",
   "metadata": {},
   "outputs": [],
   "source": [
    "#checking the count occurance of values in a categorical column/variable\n",
    "df['cat_col'].value_counts()\n",
    "\n",
    "#normalize parameters will result in frequency values rather than counts\n",
    "df['cat_col'].value_counts(normalize=True)"
   ]
  },
  {
   "cell_type": "markdown",
   "id": "2c15faee",
   "metadata": {},
   "source": [
    "##### creating a categorical series (when not already set in a dataframe format)"
   ]
  },
  {
   "cell_type": "code",
   "execution_count": null,
   "id": "691c1bf7",
   "metadata": {},
   "outputs": [],
   "source": [
    "series_list = [\"A\", \"B\", \"C\"]\n",
    "series = pd.Series(series_list, dtype=\"category\")\n",
    "print(series)\n",
    "\n",
    "#you can also set the order of the categories this way\n",
    "series_list = [\"A\", \"B\", \"C\"]\n",
    "series = pd.Categorical(series_list, categories=[\"C\", \"B\", \"A\"], ordered=True)\n",
    "print(series)"
   ]
  },
  {
   "cell_type": "markdown",
   "id": "2700ff90",
   "metadata": {},
   "source": [
    "- Turning the variables into categorical format (rather than object) reduces the memory footprint"
   ]
  },
  {
   "cell_type": "markdown",
   "id": "35569ab6",
   "metadata": {},
   "source": [
    "##### re-ordering a categorical variable to a nomical variable"
   ]
  },
  {
   "cell_type": "code",
   "execution_count": null,
   "id": "a5675fea",
   "metadata": {},
   "outputs": [],
   "source": [
    "df[\"col\"] = df[\"col\"].cat.reorder_categories(\n",
    "    new_categories=[\"cat1\", \"cat2\", \"cat3\"],\n",
    "    ordered = True,\n",
    "    inplace = True\n",
    ")"
   ]
  }
 ],
 "metadata": {
  "kernelspec": {
   "display_name": "Python 3 (ipykernel)",
   "language": "python",
   "name": "python3"
  },
  "language_info": {
   "codemirror_mode": {
    "name": "ipython",
    "version": 3
   },
   "file_extension": ".py",
   "mimetype": "text/x-python",
   "name": "python",
   "nbconvert_exporter": "python",
   "pygments_lexer": "ipython3",
   "version": "3.9.7"
  }
 },
 "nbformat": 4,
 "nbformat_minor": 5
}
