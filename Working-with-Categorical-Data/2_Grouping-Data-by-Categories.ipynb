{
 "cells": [
  {
   "cell_type": "markdown",
   "id": "1b6a1cbc",
   "metadata": {},
   "source": [
    "##### .groupby()"
   ]
  },
  {
   "cell_type": "markdown",
   "id": "0c02efbc",
   "metadata": {},
   "source": [
    "- splits the data by the unique values of the columns specified"
   ]
  },
  {
   "cell_type": "code",
   "execution_count": null,
   "id": "008db6c6",
   "metadata": {},
   "outputs": [],
   "source": [
    "groupby_obj = df.groupby(by=[\"column\"])\n",
    "\n",
    "#then you can apply functions to do calculations over the numerical columns \n",
    "#after the dataframe has been group by a numerical value\n",
    "\n",
    "#example\n",
    "groupby_obj.mean()\n",
    "\n",
    "#you can call which columns to turn the function by\n",
    "df.groupby(by=[\"column\"])[\"col2\", \"col3\"].sum()\n",
    "#in this scenario sum() will be applied to col2 and col3\n",
    "\n",
    "#it can also be done in this manner, however the one above tends to be much faster\n",
    "df.groupby(by=[\"column\"]).sum()[[\"col2\", \"col3\"]]"
   ]
  },
  {
   "cell_type": "code",
   "execution_count": null,
   "id": "6350cf06",
   "metadata": {},
   "outputs": [],
   "source": [
    "#applying a size of grouping combinations\n",
    "df.group(by = [\"column1\", \"column2\"]).size()"
   ]
  }
 ],
 "metadata": {
  "kernelspec": {
   "display_name": "Python 3 (ipykernel)",
   "language": "python",
   "name": "python3"
  },
  "language_info": {
   "codemirror_mode": {
    "name": "ipython",
    "version": 3
   },
   "file_extension": ".py",
   "mimetype": "text/x-python",
   "name": "python",
   "nbconvert_exporter": "python",
   "pygments_lexer": "ipython3",
   "version": "3.9.7"
  }
 },
 "nbformat": 4,
 "nbformat_minor": 5
}
