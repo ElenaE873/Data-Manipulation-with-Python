{
 "cells": [
  {
   "cell_type": "markdown",
   "id": "9ee6f012",
   "metadata": {},
   "source": [
    "##### catplot function"
   ]
  },
  {
   "cell_type": "markdown",
   "id": "e03513ab",
   "metadata": {},
   "source": [
    "Parameters:\n",
    "- x/y\n",
    "- data\n",
    "- kind - the type of plots\n",
    "    - boxplots"
   ]
  },
  {
   "cell_type": "markdown",
   "id": "0ea9ec98",
   "metadata": {},
   "source": [
    "##### setting style"
   ]
  },
  {
   "cell_type": "code",
   "execution_count": null,
   "id": "9f60ee5c",
   "metadata": {},
   "outputs": [],
   "source": [
    "sns.set(font_scale=1.4)  #font size\n",
    "\n",
    "sns.set_style(\"whitegrid\")  #plot background"
   ]
  },
  {
   "cell_type": "markdown",
   "id": "f08077c6",
   "metadata": {},
   "source": [
    "##### understanding the categorical column values"
   ]
  },
  {
   "cell_type": "code",
   "execution_count": null,
   "id": "756939c0",
   "metadata": {},
   "outputs": [],
   "source": [
    "df[\"col\"].value_counts()"
   ]
  },
  {
   "cell_type": "markdown",
   "id": "d7e8fa7e",
   "metadata": {},
   "source": [
    "##### box plot"
   ]
  },
  {
   "cell_type": "code",
   "execution_count": null,
   "id": "8309eb77",
   "metadata": {},
   "outputs": [],
   "source": [
    "sns.catplot(\n",
    "    x = \"x-column\",\n",
    "    y = \"y-column\",\n",
    "    data=reviews,\n",
    "    kind=\"box\"\n",
    ")\n",
    "plt.show()"
   ]
  },
  {
   "cell_type": "markdown",
   "id": "797de047",
   "metadata": {},
   "source": [
    "##### bar plots"
   ]
  },
  {
   "cell_type": "code",
   "execution_count": null,
   "id": "bcdb768c",
   "metadata": {},
   "outputs": [],
   "source": [
    "df[\"column\"].value_counts().plot.bar()"
   ]
  },
  {
   "cell_type": "code",
   "execution_count": null,
   "id": "ed76e186",
   "metadata": {},
   "outputs": [],
   "source": [
    "sns.catplot(x = \"categorial_column\",\n",
    "           y = \"numerical_column\",\n",
    "            data = df,\n",
    "            kind = \"bar\"\n",
    "           )\n",
    "#this contains the confidence interval"
   ]
  },
  {
   "cell_type": "markdown",
   "id": "69f7c887",
   "metadata": {},
   "source": [
    "- it's best practice to order the categories outside of the catplot function, rather than using the order parameter in the plot, this way it provides consistency on all visualizations"
   ]
  },
  {
   "cell_type": "markdown",
   "id": "0ce436de",
   "metadata": {},
   "source": [
    "#### hue"
   ]
  },
  {
   "cell_type": "markdown",
   "id": "31eb6a35",
   "metadata": {},
   "source": [
    "- name of a variable in the data\n",
    "- used to split the data a second time\n"
   ]
  },
  {
   "cell_type": "code",
   "execution_count": null,
   "id": "0e14fdf1",
   "metadata": {},
   "outputs": [],
   "source": [
    "sns.catplot(x = \"categorial_column\",\n",
    "           y = \"numerical_column\",\n",
    "            data = df,\n",
    "            kind = \"bar\",\n",
    "            hue = \"another variable\"\n",
    "           )"
   ]
  },
  {
   "cell_type": "markdown",
   "id": "79761b0b",
   "metadata": {},
   "source": [
    "##### point plot"
   ]
  },
  {
   "cell_type": "code",
   "execution_count": null,
   "id": "a776d226",
   "metadata": {},
   "outputs": [],
   "source": [
    "sns.catplot(x = \"categorial_column\",\n",
    "           y = \"numerical_column\",\n",
    "            data = df,\n",
    "            kind = \"point\"\n",
    "           )"
   ]
  },
  {
   "cell_type": "markdown",
   "id": "756b128c",
   "metadata": {},
   "source": [
    "##### count plot"
   ]
  },
  {
   "cell_type": "code",
   "execution_count": null,
   "id": "ff383a05",
   "metadata": {},
   "outputs": [],
   "source": [
    "sns.catplot(x = \"categorial_column\",\n",
    "           y = \"numerical_column\",\n",
    "            data = df,\n",
    "            kind = \"count\"\n",
    "           )"
   ]
  }
 ],
 "metadata": {
  "kernelspec": {
   "display_name": "Python 3 (ipykernel)",
   "language": "python",
   "name": "python3"
  },
  "language_info": {
   "codemirror_mode": {
    "name": "ipython",
    "version": 3
   },
   "file_extension": ".py",
   "mimetype": "text/x-python",
   "name": "python",
   "nbconvert_exporter": "python",
   "pygments_lexer": "ipython3",
   "version": "3.9.7"
  }
 },
 "nbformat": 4,
 "nbformat_minor": 5
}
