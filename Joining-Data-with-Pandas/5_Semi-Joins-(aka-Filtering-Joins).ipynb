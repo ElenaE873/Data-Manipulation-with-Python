{
 "cells": [
  {
   "cell_type": "markdown",
   "id": "c16ac10c",
   "metadata": {},
   "source": [
    "#### Filtering Joins"
   ]
  },
  {
   "cell_type": "markdown",
   "id": "df0ffb1b",
   "metadata": {},
   "source": [
    "- Filtering **records** from a table **based** on **whether or not they match** an observation in **another table**."
   ]
  },
  {
   "cell_type": "markdown",
   "id": "52b65366",
   "metadata": {},
   "source": [
    "#### Semi-Joins"
   ]
  },
  {
   "cell_type": "markdown",
   "id": "070f0511",
   "metadata": {},
   "source": [
    "- retuns the intersection (similar to a inner join) **BUT** ONLY the columns from the **LEFT_TABLE** are shown\n",
    "- AND **no duplicate** rows from the left table are returned, even if there is a one-to-many relationship"
   ]
  },
  {
   "cell_type": "code",
   "execution_count": null,
   "id": "19500155",
   "metadata": {},
   "outputs": [],
   "source": [
    "#1 - the two tables are joined with an inner join\n",
    "df_merge_inner = df_1.merge(df_2, on='column')\n",
    "\n",
    "#2 - using \".isin\" to check for matches in a dataframe (df_3) \n",
    "#to the merged dataframe(df_merge_inner)\n",
    "df_3['column'].isin(df_merge_inner['column'])   #return Boolean series of T/F values\n",
    "\n",
    "#3 - combine all by subsetting the df_3 - this is a filtering semi-join\n",
    "subset_df_3 = df_3[df_3['column'].isin(df_merge_inner['column'])]"
   ]
  },
  {
   "cell_type": "markdown",
   "id": "24882998",
   "metadata": {},
   "source": [
    "#### Anti-Join"
   ]
  },
  {
   "cell_type": "markdown",
   "id": "e4c6a3c2",
   "metadata": {},
   "source": [
    "- returns the left table, excluding the intersection, meaning what's in the left but not in the right\n",
    "- this means that it only returns data from the left table and not the right"
   ]
  },
  {
   "cell_type": "code",
   "execution_count": null,
   "id": "16e35c13",
   "metadata": {},
   "outputs": [],
   "source": [
    "#1 - use the left join \n",
    "df_merge_left = df_1.merge(df_2, on='column', how='left', \n",
    "                           indicator=True)\n",
    "                    #with indicator set to True, sets a column \"_merge\"\n",
    "                    #the output of this row, tells the source of each row\n",
    "        \n",
    "#2- perform anti join with the use of the column \"_merge\" filtering for \"left_only\"\n",
    "df_anti_join = df_merge_left.loc[df_merge_left['_merge'] == 'left_only', \n",
    "                                 'column'] #return only the column from the df_merge_left table\n",
    "\n",
    "#3 - filter for the column values in the first original left table df_1\n",
    "df_1_filter = df_1[df_1['column'].isin(df_anti_join)"
   ]
  }
 ],
 "metadata": {
  "kernelspec": {
   "display_name": "Python 3 (ipykernel)",
   "language": "python",
   "name": "python3"
  },
  "language_info": {
   "codemirror_mode": {
    "name": "ipython",
    "version": 3
   },
   "file_extension": ".py",
   "mimetype": "text/x-python",
   "name": "python",
   "nbconvert_exporter": "python",
   "pygments_lexer": "ipython3",
   "version": "3.9.7"
  }
 },
 "nbformat": 4,
 "nbformat_minor": 5
}
