{
 "cells": [
  {
   "cell_type": "markdown",
   "id": "3208b418",
   "metadata": {},
   "source": [
    "#### When is a good use of Self-Joins"
   ]
  },
  {
   "cell_type": "markdown",
   "id": "6c72e55f",
   "metadata": {},
   "source": [
    "- Hierarchical relationships\n",
    "- Sequential relationships\n",
    "- Graph data / networks\n"
   ]
  },
  {
   "cell_type": "markdown",
   "id": "26adb062",
   "metadata": {},
   "source": [
    "#### Inner Self-Join"
   ]
  },
  {
   "cell_type": "code",
   "execution_count": null,
   "id": "68c2f5a1",
   "metadata": {},
   "outputs": [],
   "source": [
    "#merging \"two copies of the same table\"\n",
    "df_merge_innerself = df_1.merge(df_1, left_on='column1', right_on='column2', \n",
    "                                suffixes=('_org', '_seq')) #example "
   ]
  },
  {
   "cell_type": "markdown",
   "id": "914991cb",
   "metadata": {},
   "source": [
    "#### Left Self-Join"
   ]
  },
  {
   "cell_type": "code",
   "execution_count": null,
   "id": "5f4fe42b",
   "metadata": {},
   "outputs": [],
   "source": [
    "df_merge_outerself = df_1.merge(df_1, left_on='column1', right_on='column2', \n",
    "                                how='left' #<---\n",
    "                                suffixes=('_org', '_seq'))"
   ]
  }
 ],
 "metadata": {
  "kernelspec": {
   "display_name": "Python 3 (ipykernel)",
   "language": "python",
   "name": "python3"
  },
  "language_info": {
   "codemirror_mode": {
    "name": "ipython",
    "version": 3
   },
   "file_extension": ".py",
   "mimetype": "text/x-python",
   "name": "python",
   "nbconvert_exporter": "python",
   "pygments_lexer": "ipython3",
   "version": "3.9.7"
  }
 },
 "nbformat": 4,
 "nbformat_minor": 5
}
