{
 "cells": [
  {
   "cell_type": "markdown",
   "id": "7a778c7c",
   "metadata": {},
   "source": [
    "#### merge_ordered() method"
   ]
  },
  {
   "cell_type": "markdown",
   "id": "6873e3a4",
   "metadata": {},
   "source": [
    "- contains arguments to allow columns(s) to join on |**same as with .merge()**\n",
    "    - on, left_on, and right_on \n",
    "- supports different types of joins |**same as with .merge()**\n",
    "    - how (left, right, inner, outer)\n",
    "    - default is outer (**slight difference with .merge(): default is outer**)\n",
    "- has the overlapping columns names option for suffixes argument\n",
    "- calling the method is **slightly different to .merge()**:\n",
    "    - df1.merge(df2)\n",
    "    - pd.merge_odered(df1,df2)"
   ]
  },
  {
   "cell_type": "markdown",
   "id": "aed146a4",
   "metadata": {},
   "source": [
    "#### when to use:"
   ]
  },
  {
   "cell_type": "markdown",
   "id": "804c197f",
   "metadata": {},
   "source": [
    "- ordered data / time series\n",
    "- filling in missing values"
   ]
  },
  {
   "cell_type": "code",
   "execution_count": null,
   "id": "ac417fc0",
   "metadata": {},
   "outputs": [],
   "source": [
    "import pandas as pd\n",
    "pd.merge_ordered(df1, df2, on='column')"
   ]
  },
  {
   "cell_type": "code",
   "execution_count": null,
   "id": "a2108332",
   "metadata": {},
   "outputs": [],
   "source": [
    "#using the function's ability to incorporate missing data to forward fill the missing value\n",
    "df_merge = pd.merge_ordered(df1, df1, left_on='column1', right_on='column2', \n",
    "                             how='left',  fill_method='ffill')"
   ]
  },
  {
   "cell_type": "markdown",
   "id": "77872490",
   "metadata": {},
   "source": [
    "#### merge_asof()"
   ]
  },
  {
   "cell_type": "markdown",
   "id": "8e842881",
   "metadata": {},
   "source": [
    "- similar to a merge_ordered() left join\n",
    "- similar features to merge_ordered()\n",
    "- match on the nearest key column and not exact matches\n",
    "- merged \"on\" columns must be ordered"
   ]
  },
  {
   "cell_type": "markdown",
   "id": "757729b9",
   "metadata": {},
   "source": [
    "#### use when:"
   ]
  },
  {
   "cell_type": "markdown",
   "id": "bb4f3aed",
   "metadata": {},
   "source": [
    "- data sampleted from a process\n",
    "- developing a training set (no data leakage)"
   ]
  },
  {
   "cell_type": "code",
   "execution_count": null,
   "id": "502c8177",
   "metadata": {},
   "outputs": [],
   "source": [
    "pd.merge_asof(df1, df2, on='date_time_column',\n",
    "             direction = 'forward') #or 'nearest'"
   ]
  }
 ],
 "metadata": {
  "kernelspec": {
   "display_name": "Python 3 (ipykernel)",
   "language": "python",
   "name": "python3"
  },
  "language_info": {
   "codemirror_mode": {
    "name": "ipython",
    "version": 3
   },
   "file_extension": ".py",
   "mimetype": "text/x-python",
   "name": "python",
   "nbconvert_exporter": "python",
   "pygments_lexer": "ipython3",
   "version": "3.9.7"
  }
 },
 "nbformat": 4,
 "nbformat_minor": 5
}
