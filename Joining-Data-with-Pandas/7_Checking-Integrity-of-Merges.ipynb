{
 "cells": [
  {
   "cell_type": "markdown",
   "id": "a925e828",
   "metadata": {},
   "source": [
    "### Possible Merging Issues:"
   ]
  },
  {
   "cell_type": "markdown",
   "id": "d676bceb",
   "metadata": {},
   "source": [
    "Horizontal Merging:\n",
    "- unintentional one-to-many relationships\n",
    "- unintentional many-to-many relationships\n",
    "\n",
    "Vertical Merging:\n",
    "- duplicate records possibly unintentionally introduced"
   ]
  },
  {
   "cell_type": "markdown",
   "id": "f5dc343e",
   "metadata": {},
   "source": [
    "#### validate argument in .merge(validate=None)"
   ]
  },
  {
   "cell_type": "markdown",
   "id": "70a54993",
   "metadata": {},
   "source": [
    "Checks if merge is of specified type:\n",
    "- 'one-to-one'\n",
    "- 'one-to-many'\n",
    "- 'many-to-one'\n",
    "- 'many-to-many'"
   ]
  },
  {
   "cell_type": "code",
   "execution_count": null,
   "id": "07b342c6",
   "metadata": {},
   "outputs": [],
   "source": [
    "#merging two datasets and ensuring the merge occurs only on a one-to-one relationship\n",
    "df_1.merge(df_2, on='column', validate='one-to-one')"
   ]
  }
 ],
 "metadata": {
  "kernelspec": {
   "display_name": "Python 3 (ipykernel)",
   "language": "python",
   "name": "python3"
  },
  "language_info": {
   "codemirror_mode": {
    "name": "ipython",
    "version": 3
   },
   "file_extension": ".py",
   "mimetype": "text/x-python",
   "name": "python",
   "nbconvert_exporter": "python",
   "pygments_lexer": "ipython3",
   "version": "3.9.7"
  }
 },
 "nbformat": 4,
 "nbformat_minor": 5
}
