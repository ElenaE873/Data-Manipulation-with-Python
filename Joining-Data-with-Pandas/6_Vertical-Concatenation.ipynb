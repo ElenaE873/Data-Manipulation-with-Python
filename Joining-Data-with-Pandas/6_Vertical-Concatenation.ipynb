{
 "cells": [
  {
   "cell_type": "markdown",
   "id": "4c5f0d62",
   "metadata": {},
   "source": [
    "#### Uses"
   ]
  },
  {
   "cell_type": "markdown",
   "id": "d8a2e01f",
   "metadata": {},
   "source": [
    "- pulling different datasets together based on dates"
   ]
  },
  {
   "cell_type": "markdown",
   "id": "84b12855",
   "metadata": {},
   "source": [
    "#### Concatenate"
   ]
  },
  {
   "cell_type": "code",
   "execution_count": null,
   "id": "8d99ec25",
   "metadata": {},
   "outputs": [],
   "source": [
    "#using the concat method to pull through different dataframes\n",
    "pd.concat([df_1, df_2, df_3],\n",
    "         ignore_index=False,  #True for setting index from 1 to n-1\n",
    "         keys=['df_1_title', 'df_2_title', 'df_3_title']\n",
    "         #associate keys with the specific dataframes\n",
    "          #note: index must be False in this type of scenario, you can't do this and \n",
    "          #not have the index set to False, because this essentially creates a multi-index \n",
    "          #with the label at the first level\n",
    "         sort=True,  #will sort columns\n",
    "         join='inner'\n",
    "          #if we only want the matching columns between the dataframes\n",
    "         )"
   ]
  },
  {
   "cell_type": "markdown",
   "id": "6cefab5a",
   "metadata": {},
   "source": [
    "#### Append"
   ]
  },
  {
   "cell_type": "markdown",
   "id": "de477746",
   "metadata": {},
   "source": [
    "- same as concatenate but it does not support the join argument"
   ]
  },
  {
   "cell_type": "code",
   "execution_count": null,
   "id": "e8b0f024",
   "metadata": {},
   "outputs": [],
   "source": [
    "pd.append([df_1, df_2, df_3],\n",
    "         ignore_index=True,\n",
    "          sort=True)"
   ]
  }
 ],
 "metadata": {
  "kernelspec": {
   "display_name": "Python 3 (ipykernel)",
   "language": "python",
   "name": "python3"
  },
  "language_info": {
   "codemirror_mode": {
    "name": "ipython",
    "version": 3
   },
   "file_extension": ".py",
   "mimetype": "text/x-python",
   "name": "python",
   "nbconvert_exporter": "python",
   "pygments_lexer": "ipython3",
   "version": "3.9.7"
  }
 },
 "nbformat": 4,
 "nbformat_minor": 5
}
