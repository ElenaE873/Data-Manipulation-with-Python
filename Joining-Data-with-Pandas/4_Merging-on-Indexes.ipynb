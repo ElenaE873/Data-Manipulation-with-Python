{
 "cells": [
  {
   "cell_type": "markdown",
   "id": "3e875593",
   "metadata": {},
   "source": [
    "#### Merging on Index"
   ]
  },
  {
   "cell_type": "code",
   "execution_count": null,
   "id": "3a698452",
   "metadata": {},
   "outputs": [],
   "source": [
    "df_merge_index = df_1.merge(df_2, on='id', #id here can be the index\n",
    "                            how='left')"
   ]
  },
  {
   "cell_type": "markdown",
   "id": "b381232d",
   "metadata": {},
   "source": [
    "#### Merging on Multi-Indexes"
   ]
  },
  {
   "cell_type": "code",
   "execution_count": null,
   "id": "8587e446",
   "metadata": {},
   "outputs": [],
   "source": [
    "#movie_id and cast_id are indexes in this scenario\n",
    "df_merge = df_1.merge(df_2, on=['movie_id', 'cast_id'])"
   ]
  },
  {
   "cell_type": "markdown",
   "id": "b12163c8",
   "metadata": {},
   "source": [
    "- if the indexes names are different between the two tables, use left_on and right_on \n",
    "- AND setting left_index and right_index to True"
   ]
  },
  {
   "cell_type": "code",
   "execution_count": null,
   "id": "d362009a",
   "metadata": {},
   "outputs": [],
   "source": [
    "#merging when indexes have different names\n",
    "df_merge = df_1.merge(df_2, left_on='indexname1', left_index=True,\n",
    "                     right_on='indexname2', right_index=True)"
   ]
  }
 ],
 "metadata": {
  "kernelspec": {
   "display_name": "Python 3 (ipykernel)",
   "language": "python",
   "name": "python3"
  },
  "language_info": {
   "codemirror_mode": {
    "name": "ipython",
    "version": 3
   },
   "file_extension": ".py",
   "mimetype": "text/x-python",
   "name": "python",
   "nbconvert_exporter": "python",
   "pygments_lexer": "ipython3",
   "version": "3.9.7"
  }
 },
 "nbformat": 4,
 "nbformat_minor": 5
}
