{
 "cells": [
  {
   "cell_type": "markdown",
   "id": "a59d1bae",
   "metadata": {},
   "source": [
    "Reshaping data means to adjust it for the appropriate format for analysis, by:\n",
    "- Transposing a DataFrame\n",
    "- Converting from wide to long format and vice versa\n",
    "    - wide to long:\n",
    "        - .met()\n",
    "        - .wide_to_long()\n",
    "    - long to wide:\n",
    "        - .pivot()\n",
    "        - .pivot_table()"
   ]
  },
  {
   "cell_type": "markdown",
   "id": "a8bd0479",
   "metadata": {},
   "source": [
    "Long Format:\n",
    "- Each row represents one feature\n",
    "- Needs a column to identify records of the same observation\n",
    "- There might be multiple records for each observation\n",
    "\n",
    "Wide format:\n",
    "- Each row shows many features of the same observation\n",
    "- Each feature is represented in separate column\n",
    "- Does not contain repeated records\n",
    "- Can contain large number of missing data"
   ]
  },
  {
   "cell_type": "markdown",
   "id": "6b4ae102",
   "metadata": {},
   "source": [
    "#### Transposing Dataframes"
   ]
  },
  {
   "cell_type": "code",
   "execution_count": null,
   "id": "4172f935",
   "metadata": {},
   "outputs": [],
   "source": [
    "#setting the index of the dataframe\n",
    "df.set_index('column1')[['column2', 'column3']]\n",
    "#sets the index by column 1, and selects columns 2 and three as well\n",
    "\n",
    "#using the transpose function() to flip the dataset\n",
    "df.set_index('column1')[['column2', 'column3']].transpose()\n",
    "#values of column 1 becomes the columns\n",
    "#and column2, 3 become row index\n",
    "\n",
    "#essentially .transpose() makes rows become columns and columns rows."
   ]
  },
  {
   "cell_type": "markdown",
   "id": "3ee4dd1d",
   "metadata": {},
   "source": [
    "##### Cases where we might need to go from Long to Wide"
   ]
  },
  {
   "cell_type": "markdown",
   "id": "ba8aa263",
   "metadata": {},
   "source": [
    "- demostrate relationship between two columns\n",
    "- time-series operations with the variables\n",
    "- operation that requires columns to be unique variable"
   ]
  }
 ],
 "metadata": {
  "kernelspec": {
   "display_name": "Python 3 (ipykernel)",
   "language": "python",
   "name": "python3"
  },
  "language_info": {
   "codemirror_mode": {
    "name": "ipython",
    "version": 3
   },
   "file_extension": ".py",
   "mimetype": "text/x-python",
   "name": "python",
   "nbconvert_exporter": "python",
   "pygments_lexer": "ipython3",
   "version": "3.9.7"
  }
 },
 "nbformat": 4,
 "nbformat_minor": 5
}
